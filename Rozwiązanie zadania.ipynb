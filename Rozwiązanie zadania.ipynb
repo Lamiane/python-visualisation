{
 "cells": [
  {
   "cell_type": "code",
   "execution_count": 1,
   "metadata": {
    "collapsed": true
   },
   "outputs": [],
   "source": [
    "## IMPORTY\n",
    "# wykresy będą wyświetlać się w notebooku nie osobnych oknach\n",
    "%matplotlib inline\n",
    "# biblioteka do rysowania wykresów\n",
    "import matplotlib.pyplot as plt\n",
    "# schematy kolorów\n",
    "from matplotlib import cm\n",
    "# moduły do generowania danych i obrabiania\n",
    "from sklearn.datasets import make_blobs, load_iris\n",
    "import numpy as np"
   ]
  },
  {
   "cell_type": "code",
   "execution_count": 2,
   "metadata": {
    "collapsed": true
   },
   "outputs": [],
   "source": [
    "## GENEROWANIE DANYCH\n",
    "blobs_X, blobs_y = make_blobs()\n",
    "x = np.linspace(-10, 10,)\n",
    "sin_X, sin_y = x, np.sin(x)\n",
    "iris = load_iris()\n",
    "iris_X, iris_y = iris.data, iris.target"
   ]
  },
  {
   "cell_type": "code",
   "execution_count": 3,
   "metadata": {},
   "outputs": [
    {
     "data": {
      "image/png": "[encoded data removed]",
      "text/plain": [
       "<matplotlib.figure.Figure at 0x7efc01c1d3d0>"
      ]
     },
     "metadata": {},
     "output_type": "display_data"
    }
   ],
   "source": [
    "# Zbiór iris opisuje irysy trzech gatunków.\n",
    "# Każda kolumna w iris.data zawiera informację o wielkości danej cechy konkretnego kwiatu.\n",
    "# iris.target zawiera informację o gatunku konkretnego irysa\n",
    "\n",
    "# informację o każdym gatunku będziemy trzymać w osobnej macierzy\n",
    "iris_0 = iris_X[iris_y==0]\n",
    "iris_1 = iris_X[iris_y==1]\n",
    "iris_2 = iris_X[iris_y==2]\n",
    "\n",
    "# wyliczamy średnią każdej cechy dla każdego gatunku\n",
    "mean_0 = np.mean(iris_0, axis=0)\n",
    "mean_1 = np.mean(iris_1, axis=0)\n",
    "mean_2 = np.mean(iris_2, axis=0)\n",
    "\n",
    "# Oto są kolory \"Tableau 20\" w RGB.    \n",
    "tableau20 = [(31, 119, 180), (174, 199, 232), (255, 127, 14), (255, 187, 120),    \n",
    "             (44, 160, 44), (152, 223, 138), (214, 39, 40), (255, 152, 150),    \n",
    "             (148, 103, 189), (197, 176, 213), (140, 86, 75), (196, 156, 148),    \n",
    "             (227, 119, 194), (247, 182, 210), (127, 127, 127), (199, 199, 199),    \n",
    "             (188, 189, 34), (219, 219, 141), (23, 190, 207), (158, 218, 229)]    \n",
    "  \n",
    "# Przeskaluj wartości RGB to skali [0, 1], by była akceptowana przez matplotliba.    \n",
    "for i in range(len(tableau20)):    \n",
    "    r, g, b = tableau20[i]    \n",
    "    tableau20[i] = (r / 255., g / 255., b / 255.) \n",
    "\n",
    "    \n",
    "plt.figure(figsize=(10, 7.5)) \n",
    "ax = plt.subplot()\n",
    "\n",
    "# zmienne, potrzebne do ustawienia słupków obok siebie\n",
    "N = len(mean_0)\n",
    "ind = np.arange(N)\n",
    "width = 1./N\n",
    "\n",
    "# właściwe rysowanie\n",
    "rects0 = ax.bar(ind, mean_0, width, color=tableau20[0], edgecolor = \"none\")\n",
    "rects1 = ax.bar(ind+width, mean_1, width, color=tableau20[1], edgecolor = \"none\")\n",
    "rects2 = ax.bar(ind+2*width, mean_2, width, color=tableau20[2], edgecolor = \"none\")\n",
    "\n",
    "# legenda\n",
    "ax.legend((rects0[0], rects1[0], rects2[0]), ('Setosa', 'Versicolour', 'Virginica'), frameon=False)\n",
    "\n",
    "# podpisanie diagramu\n",
    "ax.set_title('Average values in the Iris Dataset')\n",
    "\n",
    "# ustawiamy podpisy w osi X\n",
    "ax.set_xticks(ind + 1.5 * width)\n",
    "ax.set_xticklabels(('Sepal Length', 'Sepal Width', 'Petal Length', 'Petal Width'))\n",
    "\n",
    "# chcemy nie mieć ticksów\n",
    "plt.tick_params(\n",
    "    axis='x',          # changes apply to the x-axis\n",
    "    which='both',      # both major and minor ticks are affected\n",
    "    top='off',         # ticks along the top edge are off\n",
    "    bottom='off',      # ticks along the bottom edge are off\n",
    "    labelbottom='on')  # labels along the bottom edge are on\n",
    "\n",
    "plt.tick_params(\n",
    "    axis='y',          # changes apply to the y-axis\n",
    "    which='both',      # both major and minor ticks are affected\n",
    "    left='off',        # ticks along the left edge are off\n",
    "    right='off',       # ticks along the right edge are off\n",
    "    labelleft='off')   # labels along the bottom edge are off\n",
    "\n",
    "\n",
    "# Remove the plot frame lines. They are unnecessary chartjunk.    \n",
    "ax.spines[\"top\"].set_visible(False)    \n",
    "ax.spines[\"bottom\"].set_visible(False)    \n",
    "ax.spines[\"right\"].set_visible(False)    \n",
    "ax.spines[\"left\"].set_visible(False)\n",
    "\n",
    "# wartość reprezentowana przez słupek zostanie wyświetlona nad słupkiem\n",
    "def autolabel(rects):\n",
    "    # attach some text labels\n",
    "    for rect in rects:\n",
    "        height = rect.get_height()\n",
    "        ax.text(rect.get_x() + rect.get_width()/2., 0.05+height,\n",
    "                '%.2f' % (height),\n",
    "                ha='center', va='bottom')\n",
    "\n",
    "autolabel(rects0)\n",
    "autolabel(rects1)\n",
    "autolabel(rects2)"
   ]
  },
  {
   "cell_type": "code",
   "execution_count": null,
   "metadata": {
    "collapsed": true
   },
   "outputs": [],
   "source": []
  }
 ],
 "metadata": {
  "kernelspec": {
   "display_name": "Python [conda root]",
   "language": "python",
   "name": "conda-root-py"
  },
  "language_info": {
   "codemirror_mode": {
    "name": "ipython",
    "version": 2
   },
   "file_extension": ".py",
   "mimetype": "text/x-python",
   "name": "python",
   "nbconvert_exporter": "python",
   "pygments_lexer": "ipython2",
   "version": "2.7.13"
  }
 },
 "nbformat": 4,
 "nbformat_minor": 1
}
